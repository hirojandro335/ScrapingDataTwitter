{
 "cells": [
  {
   "cell_type": "code",
   "execution_count": 16,
   "metadata": {},
   "outputs": [],
   "source": [
    "import json\n",
    "import csv\n",
    "import tweepy\n",
    "import re"
   ]
  },
  {
   "cell_type": "code",
   "execution_count": 17,
   "metadata": {},
   "outputs": [],
   "source": [
    "\"\"\"\n",
    "INPUTS:\n",
    "    consumer_key, consumer_secret, access_token, access_token_secret: codes \n",
    "    telling twitter that we are authorized to access this data\n",
    "    hashtag_phrase: the combination of hashtags to search for\n",
    "OUTPUTS:\n",
    "    none, simply save the tweet info to a spreadsheet\n",
    "\"\"\"\n",
    "\n",
    "ckey = \"xxx\"\n",
    "csecret = \"xxx\"\n",
    "atoken = \"xxx\"\n",
    "asecret = \"xxx\"\n",
    "\n",
    "\n",
    "def search_for_hashtags(consumer_key, \n",
    "                        consumer_secret, \n",
    "                        access_token, \n",
    "                        access_token_secret, \n",
    "                        hashtag_phrase):\n",
    "    \n",
    "    #create authentication for accessing Twitter\n",
    "#    auth = tweepy.OAuthHandler('consumer_key':ckey, 'consumer_secret':csecret)\n",
    "#    auth.set_access_token('access_token_key':atoken, 'access_token_secret':asecret)\n",
    "\n",
    "    OAUTH_KEYS = {'consumer_key':ckey, \n",
    "                  'consumer_secret':csecret,\n",
    "                  'access_token_key':atoken, \n",
    "                  'access_token_secret':asecret}\n",
    "    \n",
    "    auth = tweepy.OAuthHandler(OAUTH_KEYS['consumer_key'], OAUTH_KEYS['consumer_secret'])\n",
    "\n",
    "    #initialize Tweepy API\n",
    "    api = tweepy.API(auth, wait_on_rate_limit=True)\n",
    "    \n",
    "\n",
    "    #non-filtered\n",
    "    #filtered\n",
    "    \n",
    "    #get the name of the spreadsheet we will write to\n",
    "    fname = '_'.join(re.findall(r\"#(\\w+)\", 'unfiltered'))\n",
    "    \n",
    "\n",
    "    #open the spreadsheet we will write to\n",
    "    with open('unfiltered%s.csv'%(fname), 'w') as file:\n",
    "\n",
    "        w = csv.writer(file)\n",
    "\n",
    "        #write header row to spreadsheet\n",
    "        w.writerow(['Timestamp', \n",
    "                    'Tweet Text',\n",
    "                    'Hive Owners',\n",
    "                    'Likes', \n",
    "                    'Retweets',\n",
    "                    'Followers',\n",
    "                    'Hashtags', \n",
    "                    'Tweets ID'\n",
    "                    ])\n",
    "        \n",
    "        \n",
    "        hashtag_phrase = '\"#HIVE\" OR \"#HiveChat\" OR \"$Hive\" OR \"hive.blog\" OR \"peakd.com\" OR \"ecency.com\"'\n",
    "        \n",
    "        #for each tweet matching our hashtags, write relevant info to the spreadsheet\n",
    "        for tweet in tweepy.Cursor(api.search, q=hashtag_phrase+' ', \\\n",
    "                        tweet_mode='extended').items(20000):   \n",
    "            \n",
    "            w.writerow([tweet.created_at, \n",
    "                        tweet.full_text.replace('\\n',' ').encode('utf-8'), \n",
    "                        tweet.user.screen_name.encode('utf-8'), \n",
    "                        tweet.favorite_count, \n",
    "                        tweet.retweet_count,\n",
    "                        tweet.user.followers_count, \n",
    "                        [e['text'] for e in tweet._json['entities']['hashtags']],\n",
    "                        tweet.id \n",
    "                        ])"
   ]
  },
  {
   "cell_type": "code",
   "execution_count": 18,
   "metadata": {
    "scrolled": false
   },
   "outputs": [],
   "source": [
    "consumer_key = \"xxx\"\n",
    "consumer_secret = \"xxx\"\n",
    "access_token = \"xxx\"\n",
    "access_token_secret = \"xxx\"\n",
    "    \n",
    "hashtag_phrase = '\"#HIVE\" OR \"#HiveChat\" OR \"$Hive\" OR \"hive.blog\" OR \"peakd.com\" OR \"ecency.com\"'\n",
    "\n",
    "if __name__ == '__main__':\n",
    "    search_for_hashtags(consumer_key, consumer_secret, access_token, access_token_secret, hashtag_phrase)"
   ]
  },
  {
   "cell_type": "code",
   "execution_count": null,
   "metadata": {},
   "outputs": [],
   "source": []
  },
  {
   "cell_type": "code",
   "execution_count": null,
   "metadata": {},
   "outputs": [],
   "source": []
  }
 ],
 "metadata": {
  "anaconda-cloud": {},
  "kernelspec": {
   "display_name": "Python 3",
   "language": "python",
   "name": "python3"
  },
  "language_info": {
   "codemirror_mode": {
    "name": "ipython",
    "version": 3
   },
   "file_extension": ".py",
   "mimetype": "text/x-python",
   "name": "python",
   "nbconvert_exporter": "python",
   "pygments_lexer": "ipython3",
   "version": "3.8.3"
  }
 },
 "nbformat": 4,
 "nbformat_minor": 1
}
