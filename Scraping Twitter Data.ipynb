{
 "cells": [
  {
   "cell_type": "code",
   "execution_count": 7,
   "metadata": {},
   "outputs": [],
   "source": [
    "import json\n",
    "import csv\n",
    "import tweepy\n",
    "import re"
   ]
  },
  {
   "cell_type": "code",
   "execution_count": 8,
   "metadata": {},
   "outputs": [],
   "source": [
    "\"\"\"\n",
    "INPUTS:\n",
    "    consumer_key, consumer_secret, access_token, access_token_secret: codes \n",
    "    telling twitter that we are authorized to access this data\n",
    "    hashtag_phrase: the combination of hashtags to search for\n",
    "OUTPUTS:\n",
    "    none, simply save the tweet info to a spreadsheet\n",
    "\"\"\"\n",
    "\n",
    "\n",
    "\n",
    "def search_for_hashtags(consumer_key, consumer_secret, access_token, access_token_secret, hashtag_phrase):\n",
    "    \n",
    "    #create authentication for accessing Twitter\n",
    "    auth = tweepy.OAuthHandler(consumer_key, consumer_secret)\n",
    "    auth.set_access_token(access_token, access_token_secret)\n",
    "\n",
    "    #initialize Tweepy API\n",
    "    api = tweepy.API(auth, wait_on_rate_limit=True)\n",
    "    \n",
    "    #get the name of the spreadsheet we will write to\n",
    "    fname = '_'.join(re.findall(r\"#(\\w+)\", hashtag_phrase))\n",
    "    \n",
    "\n",
    "    #open the spreadsheet we will write to\n",
    "    with open('hastag%s.csv'%(fname), 'w') as file:\n",
    "\n",
    "        w = csv.writer(file)\n",
    "\n",
    "        #write header row to spreadsheet\n",
    "        w.writerow(['Timestamp', 'Tweet Text', 'Username', 'Hashtags', 'Followers'])\n",
    "\n",
    "        #for each tweet matching our hashtags, write relevant info to the spreadsheet\n",
    "        for tweet in tweepy.Cursor(api.search, q=hashtag_phrase+'-filter:retweets ', \\\n",
    "                        tweet_mode='extended').items(10000):   \n",
    "            \n",
    "            w.writerow([tweet.created_at, tweet.full_text.replace('\\n',' ').encode('utf-8'), tweet.user.screen_name.encode('utf-8'), [e['text'] for e in tweet._json['entities']['hashtags']], tweet.user.followers_count])"
   ]
  },
  {
   "cell_type": "code",
   "execution_count": 9,
   "metadata": {
    "scrolled": false
   },
   "outputs": [
    {
     "name": "stdout",
     "output_type": "stream",
     "text": [
      "Consumer Key O3FV7q5KhhLwx5U7JWOSoZFIX\n",
      "Consumer Secret 7IDDQ9HbjLMRxMnMPADksFUt7B7Fg4IUr1MJzdKHaE5ioR5li5\n",
      "Access Token 123550126-INOd602oDnQNMxGQLDhDOtHzeBRyy8T1OTaCeCRF\n",
      "Access Token Secret wr7AEQn1dq9oqZ9BVwOWJCN79n3eyZZD7jCtFYmzdaith\n",
      "Hashtag Phrase #Hive OR $Hive OR hive.blog OR peakd.com OR #Hivechat OR #HiveLift\n"
     ]
    }
   ],
   "source": [
    "consumer_key = input('Consumer Key ')\n",
    "consumer_secret = input('Consumer Secret ')\n",
    "access_token = input('Access Token ')\n",
    "access_token_secret = input('Access Token Secret ')\n",
    "    \n",
    "hashtag_phrase = input('Hashtag Phrase ')\n",
    "\n",
    "if __name__ == '__main__':\n",
    "    search_for_hashtags(consumer_key, consumer_secret, access_token, access_token_secret, hashtag_phrase)"
   ]
  },
  {
   "cell_type": "code",
   "execution_count": null,
   "metadata": {},
   "outputs": [],
   "source": []
  },
  {
   "cell_type": "code",
   "execution_count": null,
   "metadata": {},
   "outputs": [],
   "source": []
  }
 ],
 "metadata": {
  "anaconda-cloud": {},
  "kernelspec": {
   "display_name": "Python 3",
   "language": "python",
   "name": "python3"
  },
  "language_info": {
   "codemirror_mode": {
    "name": "ipython",
    "version": 3
   },
   "file_extension": ".py",
   "mimetype": "text/x-python",
   "name": "python",
   "nbconvert_exporter": "python",
   "pygments_lexer": "ipython3",
   "version": "3.8.3"
  }
 },
 "nbformat": 4,
 "nbformat_minor": 1
}
